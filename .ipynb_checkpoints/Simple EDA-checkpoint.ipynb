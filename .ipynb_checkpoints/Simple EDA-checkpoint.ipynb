{
 "cells": [
  {
   "cell_type": "code",
   "execution_count": 2,
   "id": "4f25047d-931b-4192-8a56-3d3bec313e65",
   "metadata": {},
   "outputs": [],
   "source": [
    "import pandas as pd\n",
    "import numpy as np\n",
    "import matplotlib.pyplot as plt\n",
    "import seaborn as sns"
   ]
  },
  {
   "cell_type": "code",
   "execution_count": 25,
   "id": "d482b996-41b8-427d-a9c9-7441c7be5cd3",
   "metadata": {},
   "outputs": [
    {
     "data": {
      "text/html": [
       "<div>\n",
       "<style scoped>\n",
       "    .dataframe tbody tr th:only-of-type {\n",
       "        vertical-align: middle;\n",
       "    }\n",
       "\n",
       "    .dataframe tbody tr th {\n",
       "        vertical-align: top;\n",
       "    }\n",
       "\n",
       "    .dataframe thead th {\n",
       "        text-align: right;\n",
       "    }\n",
       "</style>\n",
       "<table border=\"1\" class=\"dataframe\">\n",
       "  <thead>\n",
       "    <tr style=\"text-align: right;\">\n",
       "      <th></th>\n",
       "      <th>City</th>\n",
       "      <th>Date</th>\n",
       "      <th>Card Type</th>\n",
       "      <th>Exp Type</th>\n",
       "      <th>Gender</th>\n",
       "      <th>Amount</th>\n",
       "    </tr>\n",
       "  </thead>\n",
       "  <tbody>\n",
       "    <tr>\n",
       "      <th>0</th>\n",
       "      <td>Delhi, India</td>\n",
       "      <td>29-Oct-14</td>\n",
       "      <td>Gold</td>\n",
       "      <td>Bills</td>\n",
       "      <td>F</td>\n",
       "      <td>82475</td>\n",
       "    </tr>\n",
       "    <tr>\n",
       "      <th>1</th>\n",
       "      <td>Greater Mumbai, India</td>\n",
       "      <td>22-Aug-14</td>\n",
       "      <td>Platinum</td>\n",
       "      <td>Bills</td>\n",
       "      <td>F</td>\n",
       "      <td>32555</td>\n",
       "    </tr>\n",
       "    <tr>\n",
       "      <th>2</th>\n",
       "      <td>Bengaluru, India</td>\n",
       "      <td>27-Aug-14</td>\n",
       "      <td>Silver</td>\n",
       "      <td>Bills</td>\n",
       "      <td>F</td>\n",
       "      <td>101738</td>\n",
       "    </tr>\n",
       "    <tr>\n",
       "      <th>3</th>\n",
       "      <td>Greater Mumbai, India</td>\n",
       "      <td>12-Apr-14</td>\n",
       "      <td>Signature</td>\n",
       "      <td>Bills</td>\n",
       "      <td>F</td>\n",
       "      <td>123424</td>\n",
       "    </tr>\n",
       "    <tr>\n",
       "      <th>4</th>\n",
       "      <td>Bengaluru, India</td>\n",
       "      <td>5-May-15</td>\n",
       "      <td>Gold</td>\n",
       "      <td>Bills</td>\n",
       "      <td>F</td>\n",
       "      <td>171574</td>\n",
       "    </tr>\n",
       "  </tbody>\n",
       "</table>\n",
       "</div>"
      ],
      "text/plain": [
       "                    City       Date  Card Type Exp Type Gender  Amount\n",
       "0           Delhi, India  29-Oct-14       Gold    Bills      F   82475\n",
       "1  Greater Mumbai, India  22-Aug-14   Platinum    Bills      F   32555\n",
       "2       Bengaluru, India  27-Aug-14     Silver    Bills      F  101738\n",
       "3  Greater Mumbai, India  12-Apr-14  Signature    Bills      F  123424\n",
       "4       Bengaluru, India   5-May-15       Gold    Bills      F  171574"
      ]
     },
     "execution_count": 25,
     "metadata": {},
     "output_type": "execute_result"
    }
   ],
   "source": [
    "data_path = pd.read_csv('./dataset/Credit card.csv', usecols=['City', 'Date', 'Card Type','Exp Type','Gender',\t'Amount'])\n",
    "data = pd.DataFrame(data_path)\n",
    "data.head()"
   ]
  },
  {
   "cell_type": "code",
   "execution_count": 24,
   "id": "7325ebbf-ef77-4fdb-93e3-71f126e69725",
   "metadata": {},
   "outputs": [
    {
     "data": {
      "text/plain": [
       "Index(['City', 'Date', 'Card Type', 'Exp Type', 'Gender', 'Amount'], dtype='object')"
      ]
     },
     "execution_count": 24,
     "metadata": {},
     "output_type": "execute_result"
    }
   ],
   "source": [
    "data.columns"
   ]
  },
  {
   "cell_type": "code",
   "execution_count": 26,
   "id": "74a8e7e9-3d06-4b73-bb9b-e84c847d216a",
   "metadata": {},
   "outputs": [
    {
     "data": {
      "text/plain": [
       "(26052, 6)"
      ]
     },
     "execution_count": 26,
     "metadata": {},
     "output_type": "execute_result"
    }
   ],
   "source": [
    "data.shape"
   ]
  },
  {
   "cell_type": "code",
   "execution_count": 27,
   "id": "6cb75c0e-1543-43e3-8a69-999a63f18e30",
   "metadata": {},
   "outputs": [
    {
     "data": {
      "text/plain": [
       "City         object\n",
       "Date         object\n",
       "Card Type    object\n",
       "Exp Type     object\n",
       "Gender       object\n",
       "Amount        int64\n",
       "dtype: object"
      ]
     },
     "execution_count": 27,
     "metadata": {},
     "output_type": "execute_result"
    }
   ],
   "source": [
    "data.dtypes"
   ]
  },
  {
   "cell_type": "code",
   "execution_count": 29,
   "id": "cf1f4955-e36f-4305-aaa4-a1e23d072bf2",
   "metadata": {},
   "outputs": [
    {
     "name": "stdout",
     "output_type": "stream",
     "text": [
      "<class 'pandas.core.frame.DataFrame'>\n",
      "RangeIndex: 26052 entries, 0 to 26051\n",
      "Data columns (total 6 columns):\n",
      " #   Column     Non-Null Count  Dtype \n",
      "---  ------     --------------  ----- \n",
      " 0   City       26052 non-null  object\n",
      " 1   Date       26052 non-null  object\n",
      " 2   Card Type  26052 non-null  object\n",
      " 3   Exp Type   26052 non-null  object\n",
      " 4   Gender     26052 non-null  object\n",
      " 5   Amount     26052 non-null  int64 \n",
      "dtypes: int64(1), object(5)\n",
      "memory usage: 1.2+ MB\n"
     ]
    }
   ],
   "source": [
    "data.info()"
   ]
  },
  {
   "cell_type": "code",
   "execution_count": 30,
   "id": "f6b7c744-d8af-4857-8bd8-631fab43f297",
   "metadata": {},
   "outputs": [
    {
     "data": {
      "text/plain": [
       "False"
      ]
     },
     "execution_count": 30,
     "metadata": {},
     "output_type": "execute_result"
    }
   ],
   "source": [
    "data.isna().values.any()"
   ]
  },
  {
   "cell_type": "code",
   "execution_count": 31,
   "id": "b21009c7-0f70-4a13-a7c5-5d28275a51db",
   "metadata": {},
   "outputs": [
    {
     "data": {
      "text/html": [
       "<div>\n",
       "<style scoped>\n",
       "    .dataframe tbody tr th:only-of-type {\n",
       "        vertical-align: middle;\n",
       "    }\n",
       "\n",
       "    .dataframe tbody tr th {\n",
       "        vertical-align: top;\n",
       "    }\n",
       "\n",
       "    .dataframe thead th {\n",
       "        text-align: right;\n",
       "    }\n",
       "</style>\n",
       "<table border=\"1\" class=\"dataframe\">\n",
       "  <thead>\n",
       "    <tr style=\"text-align: right;\">\n",
       "      <th></th>\n",
       "      <th>City</th>\n",
       "      <th>Date</th>\n",
       "      <th>Card Type</th>\n",
       "      <th>Exp Type</th>\n",
       "      <th>Gender</th>\n",
       "      <th>Amount</th>\n",
       "    </tr>\n",
       "  </thead>\n",
       "  <tbody>\n",
       "  </tbody>\n",
       "</table>\n",
       "</div>"
      ],
      "text/plain": [
       "Empty DataFrame\n",
       "Columns: [City, Date, Card Type, Exp Type, Gender, Amount]\n",
       "Index: []"
      ]
     },
     "execution_count": 31,
     "metadata": {},
     "output_type": "execute_result"
    }
   ],
   "source": [
    "data[data.duplicated()]"
   ]
  },
  {
   "cell_type": "code",
   "execution_count": 32,
   "id": "2a102077-6abf-476f-9b03-4cf25c77be53",
   "metadata": {},
   "outputs": [
    {
     "data": {
      "text/html": [
       "<div>\n",
       "<style scoped>\n",
       "    .dataframe tbody tr th:only-of-type {\n",
       "        vertical-align: middle;\n",
       "    }\n",
       "\n",
       "    .dataframe tbody tr th {\n",
       "        vertical-align: top;\n",
       "    }\n",
       "\n",
       "    .dataframe thead th {\n",
       "        text-align: right;\n",
       "    }\n",
       "</style>\n",
       "<table border=\"1\" class=\"dataframe\">\n",
       "  <thead>\n",
       "    <tr style=\"text-align: right;\">\n",
       "      <th></th>\n",
       "      <th>Amount</th>\n",
       "    </tr>\n",
       "  </thead>\n",
       "  <tbody>\n",
       "    <tr>\n",
       "      <th>count</th>\n",
       "      <td>26052.000000</td>\n",
       "    </tr>\n",
       "    <tr>\n",
       "      <th>mean</th>\n",
       "      <td>156411.537425</td>\n",
       "    </tr>\n",
       "    <tr>\n",
       "      <th>std</th>\n",
       "      <td>103063.254287</td>\n",
       "    </tr>\n",
       "    <tr>\n",
       "      <th>min</th>\n",
       "      <td>1005.000000</td>\n",
       "    </tr>\n",
       "    <tr>\n",
       "      <th>25%</th>\n",
       "      <td>77120.250000</td>\n",
       "    </tr>\n",
       "    <tr>\n",
       "      <th>50%</th>\n",
       "      <td>153106.500000</td>\n",
       "    </tr>\n",
       "    <tr>\n",
       "      <th>75%</th>\n",
       "      <td>228050.000000</td>\n",
       "    </tr>\n",
       "    <tr>\n",
       "      <th>max</th>\n",
       "      <td>998077.000000</td>\n",
       "    </tr>\n",
       "  </tbody>\n",
       "</table>\n",
       "</div>"
      ],
      "text/plain": [
       "              Amount\n",
       "count   26052.000000\n",
       "mean   156411.537425\n",
       "std    103063.254287\n",
       "min      1005.000000\n",
       "25%     77120.250000\n",
       "50%    153106.500000\n",
       "75%    228050.000000\n",
       "max    998077.000000"
      ]
     },
     "execution_count": 32,
     "metadata": {},
     "output_type": "execute_result"
    }
   ],
   "source": [
    "data.describe()"
   ]
  },
  {
   "cell_type": "code",
   "execution_count": 34,
   "id": "6d06a8f1-4deb-4d8c-b019-efed0b8f61f7",
   "metadata": {},
   "outputs": [
    {
     "data": {
      "text/html": [
       "<div>\n",
       "<style scoped>\n",
       "    .dataframe tbody tr th:only-of-type {\n",
       "        vertical-align: middle;\n",
       "    }\n",
       "\n",
       "    .dataframe tbody tr th {\n",
       "        vertical-align: top;\n",
       "    }\n",
       "\n",
       "    .dataframe thead th {\n",
       "        text-align: right;\n",
       "    }\n",
       "</style>\n",
       "<table border=\"1\" class=\"dataframe\">\n",
       "  <thead>\n",
       "    <tr style=\"text-align: right;\">\n",
       "      <th></th>\n",
       "      <th>City</th>\n",
       "      <th>Date</th>\n",
       "      <th>Card Type</th>\n",
       "      <th>Exp Type</th>\n",
       "      <th>Gender</th>\n",
       "      <th>Amount</th>\n",
       "    </tr>\n",
       "  </thead>\n",
       "  <tbody>\n",
       "    <tr>\n",
       "      <th>0</th>\n",
       "      <td>Delhi, India</td>\n",
       "      <td>29-Oct-14</td>\n",
       "      <td>Gold</td>\n",
       "      <td>Bills</td>\n",
       "      <td>F</td>\n",
       "      <td>82475</td>\n",
       "    </tr>\n",
       "    <tr>\n",
       "      <th>1</th>\n",
       "      <td>Greater Mumbai, India</td>\n",
       "      <td>22-Aug-14</td>\n",
       "      <td>Platinum</td>\n",
       "      <td>Bills</td>\n",
       "      <td>F</td>\n",
       "      <td>32555</td>\n",
       "    </tr>\n",
       "    <tr>\n",
       "      <th>2</th>\n",
       "      <td>Bengaluru, India</td>\n",
       "      <td>27-Aug-14</td>\n",
       "      <td>Silver</td>\n",
       "      <td>Bills</td>\n",
       "      <td>F</td>\n",
       "      <td>101738</td>\n",
       "    </tr>\n",
       "    <tr>\n",
       "      <th>3</th>\n",
       "      <td>Greater Mumbai, India</td>\n",
       "      <td>12-Apr-14</td>\n",
       "      <td>Signature</td>\n",
       "      <td>Bills</td>\n",
       "      <td>F</td>\n",
       "      <td>123424</td>\n",
       "    </tr>\n",
       "    <tr>\n",
       "      <th>4</th>\n",
       "      <td>Bengaluru, India</td>\n",
       "      <td>5-May-15</td>\n",
       "      <td>Gold</td>\n",
       "      <td>Bills</td>\n",
       "      <td>F</td>\n",
       "      <td>171574</td>\n",
       "    </tr>\n",
       "  </tbody>\n",
       "</table>\n",
       "</div>"
      ],
      "text/plain": [
       "                    City       Date  Card Type Exp Type Gender  Amount\n",
       "0           Delhi, India  29-Oct-14       Gold    Bills      F   82475\n",
       "1  Greater Mumbai, India  22-Aug-14   Platinum    Bills      F   32555\n",
       "2       Bengaluru, India  27-Aug-14     Silver    Bills      F  101738\n",
       "3  Greater Mumbai, India  12-Apr-14  Signature    Bills      F  123424\n",
       "4       Bengaluru, India   5-May-15       Gold    Bills      F  171574"
      ]
     },
     "execution_count": 34,
     "metadata": {},
     "output_type": "execute_result"
    }
   ],
   "source": [
    "data.head()"
   ]
  },
  {
   "cell_type": "code",
   "execution_count": 35,
   "id": "1f5e9a5e-f9de-48d2-b140-fecfebe83a9c",
   "metadata": {},
   "outputs": [
    {
     "data": {
      "text/html": [
       "<div>\n",
       "<style scoped>\n",
       "    .dataframe tbody tr th:only-of-type {\n",
       "        vertical-align: middle;\n",
       "    }\n",
       "\n",
       "    .dataframe tbody tr th {\n",
       "        vertical-align: top;\n",
       "    }\n",
       "\n",
       "    .dataframe thead th {\n",
       "        text-align: right;\n",
       "    }\n",
       "</style>\n",
       "<table border=\"1\" class=\"dataframe\">\n",
       "  <thead>\n",
       "    <tr style=\"text-align: right;\">\n",
       "      <th></th>\n",
       "      <th>City</th>\n",
       "      <th>Date</th>\n",
       "      <th>Card Type</th>\n",
       "      <th>Exp Type</th>\n",
       "      <th>Gender</th>\n",
       "      <th>Amount</th>\n",
       "    </tr>\n",
       "  </thead>\n",
       "  <tbody>\n",
       "    <tr>\n",
       "      <th>0</th>\n",
       "      <td>Delhi, India</td>\n",
       "      <td>2014-10-29</td>\n",
       "      <td>Gold</td>\n",
       "      <td>Bills</td>\n",
       "      <td>F</td>\n",
       "      <td>82475</td>\n",
       "    </tr>\n",
       "    <tr>\n",
       "      <th>1</th>\n",
       "      <td>Greater Mumbai, India</td>\n",
       "      <td>2014-08-22</td>\n",
       "      <td>Platinum</td>\n",
       "      <td>Bills</td>\n",
       "      <td>F</td>\n",
       "      <td>32555</td>\n",
       "    </tr>\n",
       "    <tr>\n",
       "      <th>2</th>\n",
       "      <td>Bengaluru, India</td>\n",
       "      <td>2014-08-27</td>\n",
       "      <td>Silver</td>\n",
       "      <td>Bills</td>\n",
       "      <td>F</td>\n",
       "      <td>101738</td>\n",
       "    </tr>\n",
       "    <tr>\n",
       "      <th>3</th>\n",
       "      <td>Greater Mumbai, India</td>\n",
       "      <td>2014-04-12</td>\n",
       "      <td>Signature</td>\n",
       "      <td>Bills</td>\n",
       "      <td>F</td>\n",
       "      <td>123424</td>\n",
       "    </tr>\n",
       "    <tr>\n",
       "      <th>4</th>\n",
       "      <td>Bengaluru, India</td>\n",
       "      <td>2015-05-05</td>\n",
       "      <td>Gold</td>\n",
       "      <td>Bills</td>\n",
       "      <td>F</td>\n",
       "      <td>171574</td>\n",
       "    </tr>\n",
       "    <tr>\n",
       "      <th>...</th>\n",
       "      <td>...</td>\n",
       "      <td>...</td>\n",
       "      <td>...</td>\n",
       "      <td>...</td>\n",
       "      <td>...</td>\n",
       "      <td>...</td>\n",
       "    </tr>\n",
       "    <tr>\n",
       "      <th>26047</th>\n",
       "      <td>Kolkata, India</td>\n",
       "      <td>2014-06-22</td>\n",
       "      <td>Silver</td>\n",
       "      <td>Travel</td>\n",
       "      <td>F</td>\n",
       "      <td>128191</td>\n",
       "    </tr>\n",
       "    <tr>\n",
       "      <th>26048</th>\n",
       "      <td>Pune, India</td>\n",
       "      <td>2014-08-03</td>\n",
       "      <td>Signature</td>\n",
       "      <td>Travel</td>\n",
       "      <td>M</td>\n",
       "      <td>246316</td>\n",
       "    </tr>\n",
       "    <tr>\n",
       "      <th>26049</th>\n",
       "      <td>Hyderabad, India</td>\n",
       "      <td>2015-01-16</td>\n",
       "      <td>Silver</td>\n",
       "      <td>Travel</td>\n",
       "      <td>M</td>\n",
       "      <td>265019</td>\n",
       "    </tr>\n",
       "    <tr>\n",
       "      <th>26050</th>\n",
       "      <td>Kanpur, India</td>\n",
       "      <td>2014-09-14</td>\n",
       "      <td>Silver</td>\n",
       "      <td>Travel</td>\n",
       "      <td>M</td>\n",
       "      <td>88174</td>\n",
       "    </tr>\n",
       "    <tr>\n",
       "      <th>26051</th>\n",
       "      <td>Hyderabad, India</td>\n",
       "      <td>2013-10-19</td>\n",
       "      <td>Signature</td>\n",
       "      <td>Bills</td>\n",
       "      <td>M</td>\n",
       "      <td>184410</td>\n",
       "    </tr>\n",
       "  </tbody>\n",
       "</table>\n",
       "<p>26052 rows × 6 columns</p>\n",
       "</div>"
      ],
      "text/plain": [
       "                        City       Date  Card Type Exp Type Gender  Amount\n",
       "0               Delhi, India 2014-10-29       Gold    Bills      F   82475\n",
       "1      Greater Mumbai, India 2014-08-22   Platinum    Bills      F   32555\n",
       "2           Bengaluru, India 2014-08-27     Silver    Bills      F  101738\n",
       "3      Greater Mumbai, India 2014-04-12  Signature    Bills      F  123424\n",
       "4           Bengaluru, India 2015-05-05       Gold    Bills      F  171574\n",
       "...                      ...        ...        ...      ...    ...     ...\n",
       "26047         Kolkata, India 2014-06-22     Silver   Travel      F  128191\n",
       "26048            Pune, India 2014-08-03  Signature   Travel      M  246316\n",
       "26049       Hyderabad, India 2015-01-16     Silver   Travel      M  265019\n",
       "26050          Kanpur, India 2014-09-14     Silver   Travel      M   88174\n",
       "26051       Hyderabad, India 2013-10-19  Signature    Bills      M  184410\n",
       "\n",
       "[26052 rows x 6 columns]"
      ]
     },
     "execution_count": 35,
     "metadata": {},
     "output_type": "execute_result"
    }
   ],
   "source": [
    "data['Date'] = pd.to_datetime(data['Date'])\n",
    "data[] = data['Date'].apply(lambda time: time.dayofweek)\n",
    "data"
   ]
  }
 ],
 "metadata": {
  "kernelspec": {
   "display_name": "Python 3 (ipykernel)",
   "language": "python",
   "name": "python3"
  },
  "language_info": {
   "codemirror_mode": {
    "name": "ipython",
    "version": 3
   },
   "file_extension": ".py",
   "mimetype": "text/x-python",
   "name": "python",
   "nbconvert_exporter": "python",
   "pygments_lexer": "ipython3",
   "version": "3.10.6"
  }
 },
 "nbformat": 4,
 "nbformat_minor": 5
}
